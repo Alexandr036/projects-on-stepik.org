{
 "cells": [
  {
   "attachments": {},
   "cell_type": "markdown",
   "metadata": {},
   "source": [
    "## Генератор безопасных паролей\n",
    "Описание проекта: программа генерирует заданное количество паролей и включает в себя умную настройку на длину пароля,\n",
    "а также на то, какие символы требуется в него включить, а какие исключить.\n",
    "\n",
    "Составляющие проекта:\n",
    "* Целые числа (тип int);\n",
    "* Переменные;\n",
    "* Ввод / вывод данных (функции input() и print());\n",
    "* Условный оператор (if/elif/else);\n",
    "* Цикл for;\n",
    "* Написание пользовательских функций;\n",
    "* Работа с модулем random для генерации случайных чисел."
   ]
  },
  {
   "attachments": {},
   "cell_type": "markdown",
   "metadata": {},
   "source": [
    "### Заголовок программы\n",
    "1. Подключите модуль random;\n",
    "2. Создайте строковые константы:\n",
    "    * digits: 0123456789;\n",
    "    * lowercase_letters: abcdefghijklmnopqrstuvwxyz;\n",
    "    * uppercase_letters: ABCDEFGHIJKLMNOPQRSTUVWXYZ;\n",
    "    * punctuation: !#$%&*+-=?@^_.\n",
    "3. Создайте переменную chars = '', которая будет содержать все символы, которые могут быть в генерируемом пароле."
   ]
  },
  {
   "cell_type": "code",
   "execution_count": null,
   "metadata": {},
   "outputs": [],
   "source": [
    "# подключение библиотек\n",
    "import random"
   ]
  },
  {
   "cell_type": "code",
   "execution_count": null,
   "metadata": {},
   "outputs": [],
   "source": [
    "# строковые константы \n",
    "digits = '0123456789'\n",
    "lowercase_letters = 'abcdefghijklmnopqrstuvwxyz'\n",
    "uppercase_letters = 'ABCDEFGHIJKLMNOPQRSTUVWXYZ'\n",
    "punctuation = '!#$%&*+-=?@^'\n",
    "chars = ''"
   ]
  },
  {
   "attachments": {},
   "cell_type": "markdown",
   "metadata": {},
   "source": [
    "### Считывание пользовательских данных\n",
    "Программа должна запрашивать у пользователя следующую информацию:\n",
    "* Количество паролей для генерации;\n",
    "* Длину одного пароля;\n",
    "* Включать ли цифры 0123456789?\n",
    "* Включать ли прописные буквы ABCDEFGHIJKLMNOPQRSTUVWXYZ?\n",
    "* Включать ли строчные буквы abcdefghijklmnopqrstuvwxyz?\n",
    "* Включать ли символы !#$%&*+-=?@^_?\n",
    "* Исключать ли неоднозначные символы il1Lo0O?"
   ]
  },
  {
   "cell_type": "code",
   "execution_count": null,
   "metadata": {},
   "outputs": [],
   "source": []
  }
 ],
 "metadata": {
  "kernelspec": {
   "display_name": "Python 3",
   "language": "python",
   "name": "python3"
  },
  "language_info": {
   "name": "python",
   "version": "3.9.9"
  },
  "orig_nbformat": 4
 },
 "nbformat": 4,
 "nbformat_minor": 2
}
