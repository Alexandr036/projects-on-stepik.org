{
 "cells": [
  {
   "attachments": {},
   "cell_type": "markdown",
   "metadata": {},
   "source": [
    "## Генератор безопасных паролей\n",
    "Описание проекта: программа генерирует заданное количество паролей и включает в себя умную настройку на длину пароля, а также на то, какие символы требуется в него включить, а какие исключить.\n",
    "\n",
    "Составляющие проекта:\n",
    "* Целые числа (тип int);\n",
    "* Переменные;\n",
    "* Ввод / вывод данных (функции input() и print());\n",
    "* Условный оператор (if/elif/else);\n",
    "* Цикл for;\n",
    "* Написание пользовательских функций;\n",
    "* Работа с модулем random для генерации случайных чисел."
   ]
  },
  {
   "attachments": {},
   "cell_type": "markdown",
   "metadata": {},
   "source": [
    "### Заголовок программы\n",
    "1. Подключите модуль random;\n",
    "2. Создайте строковые константы:\n",
    "    * digits: 0123456789;\n",
    "    * lowercase_letters: abcdefghijklmnopqrstuvwxyz;\n",
    "    * uppercase_letters: ABCDEFGHIJKLMNOPQRSTUVWXYZ;\n",
    "    * punctuation: !#$%&*+-=?@^_.\n",
    "3. Создайте переменную chars = '', которая будет содержать все символы, которые могут быть в генерируемом пароле.\n"
   ]
  },
  {
   "cell_type": "code",
   "execution_count": 85,
   "metadata": {},
   "outputs": [],
   "source": [
    "# подключение библиотек\n",
    "import random"
   ]
  },
  {
   "cell_type": "code",
   "execution_count": 86,
   "metadata": {},
   "outputs": [],
   "source": [
    "# строковые константы\n",
    "digits = '0123456789'\n",
    "lowercase_letters = 'abcdefghijklmnopqrstuvwxyz'\n",
    "uppercase_letters = 'ABCDEFGHIJKLMNOPQRSTUVWXYZ'\n",
    "punctuation = '!#$%&*+-=?@^_'\n",
    "exclude_char = 'il1Lo0O'\n",
    "chars = ''"
   ]
  },
  {
   "attachments": {},
   "cell_type": "markdown",
   "metadata": {},
   "source": [
    "### Считывание пользовательских данных\n",
    "Программа должна запрашивать у пользователя следующую информацию:\n",
    "* Количество паролей для генерации;\n",
    "* Длину одного пароля;\n",
    "* Включать ли цифры 0123456789?\n",
    "* Включать ли прописные буквы ABCDEFGHIJKLMNOPQRSTUVWXYZ?\n",
    "* Включать ли строчные буквы abcdefghijklmnopqrstuvwxyz?\n",
    "* Включать ли символы !#$%&*+-=?@^_?\n",
    "* Исключать ли неоднозначные символы il1Lo0O?"
   ]
  },
  {
   "cell_type": "code",
   "execution_count": 87,
   "metadata": {},
   "outputs": [],
   "source": [
    "# Функция проверки ввода на корректность \n",
    "def is_valid_number(usr_input):\n",
    "    if usr_input.isnumeric() and 0 < int(usr_input):\n",
    "        return int(usr_input)\n",
    "    else:\n",
    "        while True:\n",
    "            print(f'Кажется это не число, вводите только цифры.')\n",
    "            usr_input = input(f\"Некорректный ответ. Введите необходимое число.\")\n",
    "            if usr_input.isnumeric() and 0 < int(usr_input):\n",
    "                return int(usr_input)\n",
    "                break\n",
    "def is_valid_answer(usr_input, sumbol_list):\n",
    "    while True:\n",
    "        if usr_input.lower()  in ['да', 'нет']:\n",
    "            chars = ''\n",
    "            if usr_input.lower() ==  'да':\n",
    "                chars += sumbol_list # если да, то добавляем символы в список для генерации\n",
    "                break\n",
    "            else:\n",
    "                break\n",
    "        else:\n",
    "            usr_input = input(f'Некорректный ответ. Включать в генерируемый пароль {sumbol_list}? Ответьте да или нет:')\n",
    "    return chars\n",
    "\n",
    "# for i in exclude_char:\n",
    "#     print(i)\n",
    "#     chars = chars.replace(i, '')\n",
    "# print(chars)"
   ]
  },
  {
   "cell_type": "code",
   "execution_count": 88,
   "metadata": {},
   "outputs": [
    {
     "name": "stdout",
     "output_type": "stream",
     "text": [
      "Кажется это не число, вводите только цифры.\n",
      "Кажется это не число, вводите только цифры.\n",
      "0123456789abcdefghijklmnopqrstuvwxyzABCDEFGHIJKLMNOPQRSTUVWXYZ!#$%&*+-=?@^_\n"
     ]
    },
    {
     "data": {
      "text/plain": [
       "[7, 15]"
      ]
     },
     "execution_count": 88,
     "metadata": {},
     "output_type": "execute_result"
    }
   ],
   "source": [
    "set_pas = []\n",
    "\n",
    "set_pas.append(is_valid_number(input('Какое количество паролей будем генерировать? Введите число:')))\n",
    "set_pas.append(is_valid_number(input('Какая необходима длинна паролей? Введите число:')))\n",
    "chars += is_valid_answer(input(f'Включать в генерируемый пароль {digits}?'), digits)\n",
    "chars += (is_valid_answer(input(f'Включать в генерируемый пароль {lowercase_letters}?'), lowercase_letters))\n",
    "chars += (is_valid_answer(input(f'Включать в генерируемый пароль {uppercase_letters}?'), uppercase_letters))\n",
    "chars += (is_valid_answer(input(f'Включать в генерируемый пароль {punctuation}?'), punctuation))\n",
    "\n",
    "# запрос на исключение неоднозначных символов. \n",
    "while True:\n",
    "    usr_input = input(f'Исключать ли неоднозначные символы {exclude_char}?')\n",
    "    if usr_input.lower()  in ['да', 'нет']:\n",
    "        if usr_input.lower() ==  'да':\n",
    "            for i in exclude_char:  # если да, то циклом удаляем символы из списка для генерации\n",
    "                chars = chars.replace(i, '') \n",
    "                break\n",
    "        else:\n",
    "            break\n",
    "    else:\n",
    "        usr_input = input(f'Некорректный ответ. Исключать ли неоднозначные символы {exclude_char}? Ответьте да или нет:')\n",
    "\n",
    "# Можно конечно и через функцию, но при некорректном ответе, получим повторный запрос с \"включать\", вместо \"исключать\"\n",
    "# if is_valid_answer(input(f'Исключать ли неоднозначные символы {exclude_char}?'), exclude_char) == exclude_char:\n",
    "#     for i in exclude_char:\n",
    "#         chars = chars.replace(i, '')\n",
    "\n",
    "print(chars)\n",
    "set_pas\n"
   ]
  },
  {
   "attachments": {},
   "cell_type": "markdown",
   "metadata": {},
   "source": [
    "### Настройка генерируемых паролей\n",
    "На основании введенной пользователем информации, сформируйте переменную chars, содержащую все символы, которые могут быть в генерируемом пароле."
   ]
  },
  {
   "cell_type": "code",
   "execution_count": 89,
   "metadata": {},
   "outputs": [],
   "source": [
    "# Сформирована ранее. Можно сделать тот-же запрос как и выше, но складывать в set_pas результат запроса (да/нет) и далее через цикл (функцию) сформировать chars."
   ]
  },
  {
   "attachments": {},
   "cell_type": "markdown",
   "metadata": {},
   "source": [
    "### Генерации пароля\n",
    "Напишите функцию generate_password(), которая принимает два аргумента:\n",
    "\n",
    "length: длину пароля;\n",
    "chars: алфавит из символов которого состоит пароль;\n",
    "и возвращает пароль.\n",
    "\n",
    "Используя цикл for, сгенерируйте необходимое количество паролей."
   ]
  },
  {
   "cell_type": "code",
   "execution_count": 90,
   "metadata": {},
   "outputs": [],
   "source": [
    "# версия с sample\n",
    "def generate_password_s(len_pas, chars_pas):\n",
    "    pas_gen = ''.join(random.sample(chars_pas, k=len(chars_pas)))\n",
    "    # print(pas_gen)\n",
    "    return (pas_gen[0:len_pas])"
   ]
  },
  {
   "cell_type": "code",
   "execution_count": 91,
   "metadata": {},
   "outputs": [],
   "source": [
    "# версия с choice\n",
    "def generate_password_c(length, chars):\n",
    "    password = ''\n",
    "    for j in range(length):\n",
    "        password += random.choice(chars)\n",
    "    return password"
   ]
  },
  {
   "cell_type": "code",
   "execution_count": 92,
   "metadata": {},
   "outputs": [
    {
     "name": "stdout",
     "output_type": "stream",
     "text": [
      "1i0kfmcr*@3jF8Z\n",
      "Q_7GVPRu?CdC5IZ\n"
     ]
    }
   ],
   "source": [
    "print(generate_password_s(set_pas[1], chars)) # шансов на повторение символов нет\n",
    "print(generate_password_c(set_pas[1], chars)) # возможны повторения символов"
   ]
  },
  {
   "cell_type": "code",
   "execution_count": 94,
   "metadata": {},
   "outputs": [
    {
     "name": "stdout",
     "output_type": "stream",
     "text": [
      "Xaj^QAPcnCMK-JI\n",
      "R#B4s=1nSpi9OIx\n",
      "mHPOEcFI@w%faS-\n",
      "g5b49UGINmX?JQd\n",
      "Q4Lpj?BvyouhUs8\n",
      "$h^%_Ms&Dpkb+@L\n",
      "Q%37rlsMqtC=jLY\n",
      "Сгенерировано 7 паролей, длинной 15 символов.\n"
     ]
    }
   ],
   "source": [
    "# генерация паролей через цикл for\n",
    "for _ in range(set_pas[0]):\n",
    "    print(generate_password_s(set_pas[1], chars))\n",
    "print(f'Сгенерировано {set_pas[0]} паролей, длинной {set_pas[1]} символов.')"
   ]
  }
 ],
 "metadata": {
  "kernelspec": {
   "display_name": "Python 3",
   "language": "python",
   "name": "python3"
  },
  "language_info": {
   "codemirror_mode": {
    "name": "ipython",
    "version": 3
   },
   "file_extension": ".py",
   "mimetype": "text/x-python",
   "name": "python",
   "nbconvert_exporter": "python",
   "pygments_lexer": "ipython3",
   "version": "3.9.9"
  },
  "orig_nbformat": 4
 },
 "nbformat": 4,
 "nbformat_minor": 2
}
