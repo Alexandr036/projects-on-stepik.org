{
 "cells": [
  {
   "attachments": {},
   "cell_type": "markdown",
   "metadata": {},
   "source": [
    "Аве, Цезарь 🌶️\n",
    "На вход программе подается строка текста на английском языке, в которой нужно зашифровать все слова. Каждое слово строки следует зашифровать с помощью шифра Цезаря (циклического сдвига на длину этого слова). Строчные буквы при этом остаются строчными, а прописные – прописными.<br> Гарантируется, что между различными словами присутствует один пробел.\n",
    "\n",
    "Формат входных данных <br>\n",
    "На вход программе подается строка текста на английском языке.\n",
    "\n",
    "Формат выходных данных<br>\n",
    "Программа должна вывести зашифрованный текст в соответствии с условием задачи.\n",
    "\n",
    "Примечание. Символы, не являющиеся английскими буквами, не изменяются."
   ]
  },
  {
   "cell_type": "code",
   "execution_count": 24,
   "metadata": {},
   "outputs": [
    {
     "data": {
      "text/plain": [
       "['To', 'be,', 'or', 'not', 'to', 'be,', 'that', 'is', 'the', 'question']"
      ]
     },
     "execution_count": 24,
     "metadata": {},
     "output_type": "execute_result"
    }
   ],
   "source": [
    "# text = input().split()\n",
    "text = 'To be, or not to be, that is the question'.split()\n",
    "text"
   ]
  },
  {
   "cell_type": "code",
   "execution_count": 25,
   "metadata": {},
   "outputs": [
    {
     "name": "stdout",
     "output_type": "stream",
     "text": [
      "Vq dg, qt qrw vq dg, xlex ku wkh ycmabqwv\n"
     ]
    }
   ],
   "source": [
    "dact_lower = \"abcdefghijklmnopqrstuvwxyz\"\n",
    "code_char = []\n",
    "for i in text:\n",
    "    n = 0\n",
    "    for j in range(len(i)):\n",
    "        if i[j].lower() in dact_lower:\n",
    "            n += 1\n",
    "    dact_lower_n = dact_lower[n:] + dact_lower[:n]\n",
    "    result = ''\n",
    "    for k in range(len(i)):\n",
    "        if i[k].lower() in dact_lower_n:\n",
    "            char = ord(i[k].lower()) - 97\n",
    "            # print(char)\n",
    "            char = dact_lower_n[char]\n",
    "            if i[k] == i[k].lower():\n",
    "                result += char\n",
    "            else:\n",
    "                result += char.upper()\n",
    "        else:\n",
    "            result += i[k]\n",
    "    code_char.append(result)\n",
    "\n",
    "code_char\n",
    "result_code = ' '.join(code_char)\n",
    "print(result_code)"
   ]
  }
 ],
 "metadata": {
  "kernelspec": {
   "display_name": "Python 3",
   "language": "python",
   "name": "python3"
  },
  "language_info": {
   "codemirror_mode": {
    "name": "ipython",
    "version": 3
   },
   "file_extension": ".py",
   "mimetype": "text/x-python",
   "name": "python",
   "nbconvert_exporter": "python",
   "pygments_lexer": "ipython3",
   "version": "3.9.9"
  },
  "orig_nbformat": 4
 },
 "nbformat": 4,
 "nbformat_minor": 2
}
