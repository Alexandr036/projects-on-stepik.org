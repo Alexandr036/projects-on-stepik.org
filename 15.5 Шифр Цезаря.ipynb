{
 "cells": [
  {
   "attachments": {},
   "cell_type": "markdown",
   "metadata": {},
   "source": [
    "## Шифр Цезаря\n",
    "Описание проекта: требуется написать программу, способную шифровать и дешифровать текст в соответствии с алгоритмом Цезаря. Она должна запрашивать у пользователя следующие данные:\n",
    "\n",
    "*   направление: шифрование или дешифрование;\n",
    "*   язык алфавита: русский или английский;\n",
    "*   шаг сдвига (со сдвигом вправо).\n",
    "\n",
    "Примечание 1. Считайте, что в русском языке 32 буквы (буква ё отсутствует).<br>\n",
    "Примечание 2. Неалфавитные символы — знаки препинания, пробелы, цифры — не меняются.<br>\n",
    "Примечание 3. Сохраните регистр символов. Например, текст: \"Умом Россию не понять\" при сдвиге на одну позицию вправо будет преобразован в: \"Фнпн Спттйя ож рпоауэ\".\n",
    "\n",
    "Составляющие проекта:\n",
    "* Целые числа (тип int);\n",
    "* Модульная арифметика;\n",
    "* Переменные;\n",
    "* Ввод / вывод данных (функции input() и print());\n",
    "* Условный оператор (if/elif/else);\n",
    "* Цикл for/while;\n",
    "* Строковые методы."
   ]
  },
  {
   "cell_type": "code",
   "execution_count": 205,
   "metadata": {},
   "outputs": [],
   "source": [
    "# функция проверки корректности ввода выбора ответа \n",
    "def valid_answer(question, answer_yes, answer_no):\n",
    "    while True:\n",
    "        user_answer = input(f'{question} \\n Если {answer_yes} введите 1, если {answer_no} 2')\n",
    "        if user_answer == '1':\n",
    "            return 1 \n",
    "        elif user_answer == '2':\n",
    "            return 0\n",
    "        else:\n",
    "            print('Некорректный ответ')\n",
    "\n",
    "# функция проверки корректности  ввода числового ответа\n",
    "def valid_answer_num(question):\n",
    "    while True:\n",
    "        user_answer = input(f'{question} Введите число больше 0')\n",
    "        if user_answer.isnumeric() and 0 < int(user_answer):\n",
    "            return(int(user_answer))\n",
    "        else:\n",
    "            print('Некорректный ответ')"
   ]
  },
  {
   "cell_type": "code",
   "execution_count": 206,
   "metadata": {},
   "outputs": [],
   "source": [
    "# запрос параметров \n",
    "set_code = []  # сюда складываем ответы, которые формируют параметры работы программы \n",
    "set_code.append(valid_answer('Что будем делать?', 'шифровать', 'расшифровывать'))\n",
    "set_code.append(valid_answer('Выбор языка алфавита.', 'русский', 'английский'))\n",
    "set_code.append(valid_answer_num('Задайте шаг сдвига.'))\n",
    "\n"
   ]
  },
  {
   "cell_type": "code",
   "execution_count": 208,
   "metadata": {},
   "outputs": [],
   "source": [
    "text = input(\"Введите необходимый текст:\")\n"
   ]
  },
  {
   "cell_type": "code",
   "execution_count": 212,
   "metadata": {},
   "outputs": [],
   "source": [
    "# print(set_code)  # отладочный вывод параметров, для контроля отработки. \n",
    "# text # отладочный вывод введенного текста"
   ]
  },
  {
   "cell_type": "code",
   "execution_count": 210,
   "metadata": {},
   "outputs": [
    {
     "data": {
      "text/plain": [
       "'твои батоны (какой нахал) они же булки (губы раскатал) не кинь подруга (иди домой) меня с прогулкой ...'"
      ]
     },
     "execution_count": 210,
     "metadata": {},
     "output_type": "execute_result"
    }
   ],
   "source": [
    "# основное тело программы\n",
    "if set_code[1] == 1:  # если русский \n",
    "    dact_lower = \"абвгдежзийклмнопрстуфхцчшщъыьэюя\"  # абвгдеёжзийклмнопрстуфхцчшщъыьэюя\n",
    "    x = 1072  # номер первой буквы нижнего регистра в юникод\n",
    "else: # если английский \n",
    "    dact_lower = \"abcdefghijklmnopqrstuvwxyz\"\n",
    "    x = 97 # номер первой буквы нижнего регистра в юникод \n",
    "\n",
    "if set_code[0] == 1: # если шифруем \n",
    "    dact_lower_n = dact_lower[set_code[2]:] + dact_lower[:set_code[2]]\n",
    "    # print(dact_lower_n)\n",
    "else:\n",
    "    dact_lower_n = dact_lower[-set_code[2]:] + dact_lower[:-set_code[2]]\n",
    "    # print(dact_lower_n)\n",
    "\n",
    "result = ''\n",
    "for i in range(len(text)):\n",
    "    if text[i].lower() in dact_lower_n:\n",
    "        char = ord(text[i].lower()) - x\n",
    "        # print(char)\n",
    "        char = dact_lower_n[char]\n",
    "        if text[i] == text[i].lower():  # Проверка на регистр буквы\n",
    "            result += char\n",
    "        else:\n",
    "            result += char.upper()\n",
    "\n",
    "result    "
   ]
  }
 ],
 "metadata": {
  "kernelspec": {
   "display_name": "Python 3",
   "language": "python",
   "name": "python3"
  },
  "language_info": {
   "codemirror_mode": {
    "name": "ipython",
    "version": 3
   },
   "file_extension": ".py",
   "mimetype": "text/x-python",
   "name": "python",
   "nbconvert_exporter": "python",
   "pygments_lexer": "ipython3",
   "version": "3.9.9"
  },
  "orig_nbformat": 4
 },
 "nbformat": 4,
 "nbformat_minor": 2
}
