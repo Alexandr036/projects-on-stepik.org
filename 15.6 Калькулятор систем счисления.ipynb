{
 "cells": [
  {
   "attachments": {},
   "cell_type": "markdown",
   "metadata": {},
   "source": [
    "### BOH\n",
    "На вход программе подается натуральное число в десятичной системе счисления. Напишите программу, которая переводит его в двоичную, восьмеричную и шестнадцатеричную системы счисления.\n",
    "\n",
    "Формат входных данных<br>\n",
    "На вход программе подается натуральное число.\n",
    "\n",
    "Формат выходных данных<br>\n",
    "Программа должна вывести текст в соответствии с условием задачи.\n",
    "\n",
    "Примечание 1. Используйте встроенные функции bin(), oct(), hex().\n",
    "\n",
    "Примечание 2. Для шестнадцатеричной системы счисления используйте заглавные буквы A, B, C, D, E, F.\n",
    "\n",
    "Примечание 3. BOH = Binary, Octal, Hex."
   ]
  },
  {
   "cell_type": "code",
   "execution_count": 7,
   "metadata": {},
   "outputs": [
    {
     "name": "stdout",
     "output_type": "stream",
     "text": [
      "100100101001101\n",
      "44515\n",
      "494D\n"
     ]
    }
   ],
   "source": [
    "number = int(input())\n",
    "\n",
    "number_2 = bin(number)\n",
    "number_8 = oct(number)\n",
    "number_16= hex(number)\n",
    "\n",
    "print(number_2[2:],number_8[2:], number_16[2:].upper(), sep='\\n')\n"
   ]
  }
 ],
 "metadata": {
  "kernelspec": {
   "display_name": "Python 3",
   "language": "python",
   "name": "python3"
  },
  "language_info": {
   "codemirror_mode": {
    "name": "ipython",
    "version": 3
   },
   "file_extension": ".py",
   "mimetype": "text/x-python",
   "name": "python",
   "nbconvert_exporter": "python",
   "pygments_lexer": "ipython3",
   "version": "3.9.9"
  },
  "orig_nbformat": 4
 },
 "nbformat": 4,
 "nbformat_minor": 2
}
